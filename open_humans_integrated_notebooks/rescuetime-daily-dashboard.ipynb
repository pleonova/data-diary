{
 "cells": [
  {
   "cell_type": "markdown",
   "metadata": {},
   "source": [
    "# Where does one's time go in a day?"
   ]
  },
  {
   "cell_type": "markdown",
   "metadata": {},
   "source": [
    "In this notebook, I will visualize a specified range of days using a **modified** stacked bar chart with data from `RescueTime` (supported) and `Fitbit` (not yet supported).\n",
    "\n",
    "Viusalizing my data using a stacked 24-hour plot, helps me quickly identify where my time is going and which activities I am spending time on. The anomolies in this chart are just as interesting as the patterns that arrise. \n",
    "\n",
    "For more questions, please feel free to reach out to @paula on OpenHumans.org.\n",
    "\n",
    "## Steps\n",
    "1. Define your inputs \n",
    "    - This is the only step that YOU need to make slight modifications to!!\n",
    "\n",
    "\n",
    "2. Get the data\n",
    "\n",
    "\n",
    "3. Reformat the data\n",
    "    - Trasform it to be on the minute and add tags for every minute of the day (don't worry this is all automatic). To see a more helpful guide for understanding the API's, I recommend the `rescue-vs-step-counts` notebook.\n",
    "    \n",
    "\n",
    "4. Visualize - Stacked Bar Chart"
   ]
  },
  {
   "cell_type": "markdown",
   "metadata": {},
   "source": [
    "---"
   ]
  },
  {
   "cell_type": "markdown",
   "metadata": {},
   "source": [
    "## Step 1: Enter Inputs "
   ]
  },
  {
   "cell_type": "markdown",
   "metadata": {},
   "source": [
    "#### Date Range\n",
    "\n",
    "Either enter number of days from today or enter a date range"
   ]
  },
  {
   "cell_type": "code",
   "execution_count": 2,
   "metadata": {},
   "outputs": [],
   "source": [
    "USING_DAYS_FROM_TODAY = False \n",
    "\n",
    "# If True: modify the number below\n",
    "DAYS_FROM_TODAY = 14\n",
    "\n",
    "# If False: modify the date range below\n",
    "START_DATE = '2020-05-11'\n",
    "END_DATE ='2020-05-26'"
   ]
  },
  {
   "cell_type": "markdown",
   "metadata": {},
   "source": [
    "#### Data Sources\n",
    "\n",
    "Note: Currently this notebook only supports RescueTime"
   ]
  },
  {
   "cell_type": "code",
   "execution_count": 3,
   "metadata": {},
   "outputs": [],
   "source": [
    "USING_RESCUETIME = True\n",
    "USING_FITBIT = False"
   ]
  },
  {
   "cell_type": "markdown",
   "metadata": {},
   "source": [
    "#### Level of Detail\n",
    "\n",
    "Select granularity of data\n",
    "\n",
    "RescueTime Options: `activity`, `category`, `productivity` (Example values: youtube.com, Video, -2)"
   ]
  },
  {
   "cell_type": "code",
   "execution_count": 4,
   "metadata": {},
   "outputs": [],
   "source": [
    "RESC_DETAIL = 'category'"
   ]
  },
  {
   "cell_type": "markdown",
   "metadata": {},
   "source": [
    "#### Colors\n",
    "\n",
    "Specify colors for known tag names, all remaining unspecified tags will be assigned a random color."
   ]
  },
  {
   "cell_type": "code",
   "execution_count": 5,
   "metadata": {},
   "outputs": [],
   "source": [
    "MY_COLORS = {'asleep': '#783f04ff',\n",
    "             'device': '#70a1f5', \n",
    "             'active': '#f1c232ff', \n",
    "             'restless': '#ffccf2',\n",
    "             'awake': '#7fffd4',\n",
    "             'no entry': '#ffffff',\n",
    "             'other': '#e8e8e8'}"
   ]
  },
  {
   "cell_type": "markdown",
   "metadata": {},
   "source": [
    "#### *Optional*: Reduce Tag List\n",
    "\n",
    "Highlight only specific tag(s), otherwise all available categories will have a unique color. Adding tag names here will result in only those tags being highlighted in the final chart."
   ]
  },
  {
   "cell_type": "code",
   "execution_count": 6,
   "metadata": {},
   "outputs": [],
   "source": [
    "# If this list is left empty, all categories will be shown and have a unique color\n",
    "HIGHLIGHT_ONLY_CATEGORY_LIST = []"
   ]
  },
  {
   "cell_type": "markdown",
   "metadata": {},
   "source": [
    "---"
   ]
  },
  {
   "cell_type": "markdown",
   "metadata": {},
   "source": [
    "## Step 2: Get the Data"
   ]
  },
  {
   "cell_type": "markdown",
   "metadata": {},
   "source": [
    "**Load modules and set up api**"
   ]
  },
  {
   "cell_type": "code",
   "execution_count": 7,
   "metadata": {},
   "outputs": [],
   "source": [
    "import json\n",
    "import os\n",
    "import requests\n",
    "from ohapi import api\n",
    "\n",
    "from datetime import date, datetime, timedelta as td\n",
    "import matplotlib.dates as mdates\n",
    "import arrow\n",
    "\n",
    "import numpy as np\n",
    "import pandas as pd\n",
    "import random\n",
    "\n",
    "import matplotlib.mlab as mlab\n",
    "import matplotlib.pyplot as plt\n",
    "import seaborn as sns\n",
    "sns.set(color_codes=True)"
   ]
  },
  {
   "cell_type": "markdown",
   "metadata": {},
   "source": [
    "**Chart Size**"
   ]
  },
  {
   "cell_type": "code",
   "execution_count": 8,
   "metadata": {},
   "outputs": [],
   "source": [
    "fsize = 22\n",
    "params = {\n",
    "    'axes.labelsize': fsize, \n",
    "    'axes.titlesize':fsize, \n",
    "    'axes.titlepad': 20,\n",
    "    'xtick.labelsize':fsize,\n",
    "    'xtick.major.pad': 5, \n",
    "    'ytick.labelsize':fsize,\n",
    "    'axes.labelpad': 20,\n",
    "    'lines.linewidth' : 3,\n",
    "    'figure.titlesize': fsize,\n",
    "    'figure.figsize' : (16,8),\n",
    "    'legend.title_fontsize': fsize,\n",
    "    'legend.fontsize': fsize #*0.925, \n",
    "} \n",
    "plt.rcParams.update(params) \n",
    "plt.close('all')"
   ]
  },
  {
   "cell_type": "markdown",
   "metadata": {},
   "source": [
    "**Date Range**"
   ]
  },
  {
   "cell_type": "code",
   "execution_count": 9,
   "metadata": {},
   "outputs": [
    {
     "name": "stdout",
     "output_type": "stream",
     "text": [
      "Data from 2020-05-11 through 2020-05-26, not including the latest date.\n"
     ]
    }
   ],
   "source": [
    "if USING_DAYS_FROM_TODAY == True:\n",
    "    START_DATE = (datetime.now() - pd.DateOffset(days=DAYS_FROM_TODAY)).strftime(\"%Y-%m-%d\")\n",
    "    END_DATE =  (datetime.now() + pd.DateOffset(days=1)).strftime(\"%Y-%m-%d\")\n",
    "\n",
    "# If number of days is False, then the user defined date range will be used\n",
    "print(f'Data from {START_DATE} through {END_DATE}, not including the latest date.')"
   ]
  },
  {
   "cell_type": "markdown",
   "metadata": {},
   "source": [
    "**Colors**"
   ]
  },
  {
   "cell_type": "code",
   "execution_count": 27,
   "metadata": {
    "scrolled": true
   },
   "outputs": [
    {
     "data": {
      "image/png": "[encoded data removed]",
      "text/plain": [
       "<Figure size 504x72 with 1 Axes>"
      ]
     },
     "metadata": {},
     "output_type": "display_data"
    }
   ],
   "source": [
    "# Display colors \n",
    "my_color_schema = MY_COLORS\n",
    "my_color_palette = [value for (key, value) in sorted(my_color_schema.items())]\n",
    "my_color_categories = [key for (key, value) in sorted(my_color_schema.items())]\n",
    "sns.palplot(my_color_palette)"
   ]
  },
  {
   "cell_type": "markdown",
   "metadata": {},
   "source": [
    "**Open Humans Api**"
   ]
  },
  {
   "cell_type": "code",
   "execution_count": 11,
   "metadata": {},
   "outputs": [],
   "source": [
    "user = api.exchange_oauth2_member(os.environ.get('OH_ACCESS_TOKEN'))"
   ]
  },
  {
   "cell_type": "markdown",
   "metadata": {},
   "source": [
    "### Data Source: RescueTime"
   ]
  },
  {
   "cell_type": "code",
   "execution_count": 12,
   "metadata": {},
   "outputs": [],
   "source": [
    "fileurl = ''\n",
    "for entry in user['data']:\n",
    "    if entry['source'] == \"direct-sharing-149\":\n",
    "        fileurl = entry['download_url']\n",
    "        break\n",
    "\n",
    "rescuetime_data = requests.get(fileurl).json()\n",
    "\n",
    "\n",
    "\n",
    "date = []\n",
    "time_spent_seconds = []\n",
    "activity = []\n",
    "category = []\n",
    "productivity = []\n",
    "for element in rescuetime_data['rows']:\n",
    "    date.append(element[0])\n",
    "    time_spent_seconds.append(element[1])\n",
    "    activity.append(element[3])\n",
    "    category.append(element[4])\n",
    "    productivity.append(element[5])\n",
    "date = [datetime.strptime(dt,\"%Y-%m-%dT%H:%M:%S\") for dt in date]"
   ]
  },
  {
   "cell_type": "code",
   "execution_count": 13,
   "metadata": {},
   "outputs": [],
   "source": [
    "rt_df = pd.DataFrame(data={\n",
    "    'time_spent_seconds': date,\n",
    "    'Seconds': time_spent_seconds,\n",
    "    'activity': activity,\n",
    "    'category': category,\n",
    "    'productivity': productivity\n",
    "})"
   ]
  },
  {
   "cell_type": "code",
   "execution_count": 14,
   "metadata": {},
   "outputs": [],
   "source": [
    "# Remove the time but retain the date type\n",
    "rt_df['Date'] = pd.to_datetime(rt_df['time_spent_seconds'].dt.date)\n",
    "\n",
    "# We don't need all the data, use the date range specified \n",
    "rt_df = rt_df[(rt_df['Date'] >= START_DATE) & (rt_df['Date'] <= END_DATE)].copy()\n",
    "\n",
    "# Data is recorded every 5 minutes, but there is a timer second so we can re-create a more accurrate start/end date\n",
    "rt_df['Seconds Sum Per 5Min'] = rt_df.groupby(['time_spent_seconds'])['Seconds'].apply(lambda x: x.cumsum())\n",
    "\n",
    "rt_df['Date End'] = rt_df['time_spent_seconds'] + pd.to_timedelta(rt_df['Seconds Sum Per 5Min'], unit='s')\n",
    "rt_df['Date Start'] = rt_df['Date End'] - pd.to_timedelta(rt_df['Seconds'], unit='s')"
   ]
  },
  {
   "cell_type": "markdown",
   "metadata": {},
   "source": [
    "### WIP Data Source: Fitbit"
   ]
  },
  {
   "cell_type": "markdown",
   "metadata": {},
   "source": [
    "Need intra level data"
   ]
  },
  {
   "cell_type": "code",
   "execution_count": 15,
   "metadata": {},
   "outputs": [],
   "source": [
    "# fileurl = ''\n",
    "# for entry in user['data']:\n",
    "#     if entry['source'] == \"direct-sharing-102\":\n",
    "#         fileurl = entry['download_url']\n",
    "#         break\n",
    "\n",
    "# fitbit_data = requests.get(fileurl).json()\n",
    "\n",
    "# date = []\n",
    "# steps = []\n",
    "\n",
    "# for year in fitbit_data['tracker-steps'].keys():\n",
    "#     for entry in fitbit_data['tracker-steps'][year]['activities-tracker-steps']:\n",
    "#         date.append(entry['dateTime'])\n",
    "#         steps.append(entry['value'])\n",
    "        \n",
    "# fitbit_steps = pd.DataFrame(data={\n",
    "#                 'date':date,\n",
    "#                 'steps': steps})\n",
    "# fitbit_steps['date'] = pd.to_datetime(fitbit_steps['date'])\n",
    "# fitbit_steps = fitbit_steps.set_index('date')"
   ]
  },
  {
   "cell_type": "markdown",
   "metadata": {},
   "source": [
    "---"
   ]
  },
  {
   "cell_type": "markdown",
   "metadata": {},
   "source": [
    "## Step 3: Reshape the Data"
   ]
  },
  {
   "cell_type": "code",
   "execution_count": 16,
   "metadata": {},
   "outputs": [],
   "source": [
    "def time_dataframe_prep(df, start_date, end_date, start_date_column, end_date_column, category_column):\n",
    "    \"\"\"    \n",
    "    Returns an exploded dataframe, with every minute labeled with the event name or 'no entry'.\n",
    "    \n",
    "    Parameters\n",
    "    ----------\n",
    "        df : dataframe\n",
    "            A dataframe that contains tagged timstamps\n",
    "        start_date : str\n",
    "            Date of first entry \n",
    "        end_date :str \n",
    "            Date of last entry\n",
    "        start_date_column : datetime\n",
    "            Column that contains when the event started\n",
    "        end_date_column : datetime \n",
    "            Column that contains when the event ended\n",
    "        category_column : str\n",
    "            Column that contains the event tag name\n",
    "\n",
    "    \n",
    "    Returns\n",
    "    -------\n",
    "        df_minutes_se : dataframe\n",
    "            Table with every minute tagged\n",
    "    \n",
    "    \n",
    "    \"\"\"\n",
    "    ########################    \n",
    "    ## Step 1: Create a dataframe of just the end dates\n",
    "    ########################\n",
    "    df_end = df[[end_date_column]].copy()\n",
    "    # Add a column for 'no entry'\n",
    "    df_end[category_column] = 'no entry'\n",
    "\n",
    "    # If there is no gap in data (as in there is an entry immediately following the previous),\n",
    "    # remove the record from the df_end dataframe\n",
    "    start_date_pt_list = list(df[start_date_column].unique())\n",
    "    df_end = df_end[~df_end[end_date_column].isin(start_date_pt_list)]\n",
    "\n",
    "    ########################\n",
    "    ## Step 2: Combine End and Start Dates into single dataframe\n",
    "    ########################\n",
    "    # Create a two column data frame with the start date and the category\n",
    "    df_start = df[[start_date_column, category_column]].copy()\n",
    "\n",
    "    # Update column names to match that of df_start\n",
    "    df_end.rename(columns = {end_date_column: start_date_column}, inplace = True)\n",
    "    # Append the df_end dataframe to the bottom\n",
    "    df_entries = pd.concat([df_start, df_end])\n",
    "\n",
    "    ########################\n",
    "    ## Step 3: Expand Dataset - Every Second\n",
    "    ########################\n",
    "    # Create a dataframe of second intevals between two dates   \n",
    "    time_range = pd.date_range(start_date, end_date, freq= '1s')\n",
    "    time_range_df = pd.DataFrame(time_range).rename(columns = {0: 'date_time'})\n",
    "    # Convert to time\n",
    "    time_range_df['date_time'] = pd.to_datetime(time_range_df['date_time'])\n",
    "    \n",
    "    ########################\n",
    "    ## Step 4: Add our time stamps to the expanded time dataframe\n",
    "    ########################\n",
    "    df_seconds = pd.merge(time_range_df, df_entries, how = 'left',  \n",
    "                      left_on = 'date_time', right_on = start_date_column)\n",
    "    # Find the first date_time with a category entry\n",
    "    date_of_first_entry = df_seconds[(df_seconds[category_column] != 'no entry')  \n",
    "                                     & (~df_seconds[category_column].isna())  \n",
    "                                    ]['date_time'].min()\n",
    "    # Find the index of the first entry\n",
    "    index_of_first_entry = df_seconds.index[df_seconds['date_time'] == date_of_first_entry][0]\n",
    "    # Reduce the dataframe to begin with the first entry\n",
    "    df_seconds2 = df_seconds[index_of_first_entry:].copy()\n",
    "    \n",
    "    ########################\n",
    "    ## Step 5: Label every minute\n",
    "    ########################\n",
    "    # Forward fill the category until next entry\n",
    "    df_seconds2[category_column] = df_seconds2[category_column].ffill()\n",
    "    df_seconds2[start_date_column] = df_seconds2[start_date_column].ffill()\n",
    "\n",
    "    ########################\n",
    "    ## Step 6: Pick the end of a minute entry (at 58 seconds)\n",
    "    ########################\n",
    "    # Expand the time stamp into the relevant time components\n",
    "    \n",
    "    # df_seconds2[['hour','minute','second']] = pd.to_timedelta(\n",
    "    #     df_seconds2['date_time']).dt.components.iloc[:, 1:4]\n",
    "    df_seconds2['hour'] = df_seconds2['date_time'].dt.hour\n",
    "    df_seconds2['minute'] = df_seconds2['date_time'].dt.minute\n",
    "    df_seconds2['second'] = df_seconds2['date_time'].dt.second\n",
    "\n",
    "    # Select the entries at specified second interval (otherwise the frequency is too much for the chart)\n",
    "    df_minutes = df_seconds2[df_seconds2['second'] == 58].reset_index()\n",
    "    df_minutes['date_time_min'] = df_minutes['date_time'].values.astype('<M8[m]')\n",
    "\n",
    "    ########################\n",
    "    ## Step 7: Add duration columns\n",
    "    ########################\n",
    "    df_minutes['duration_minutes'] = 1\n",
    "\n",
    "    # Find the index of the latest entry\n",
    "    latest_date = df_minutes[df_minutes[category_column] != 'no entry']['date_time'].max()\n",
    "    index_of_last_entry = df_minutes.index[df_minutes['date_time'] == latest_date][0]\n",
    "\n",
    "    # Reduce the dataframe to begin with the first entry\n",
    "    df_minutes_se = df_minutes[0:index_of_last_entry].copy()\n",
    "\n",
    "    return df_minutes_se"
   ]
  },
  {
   "cell_type": "code",
   "execution_count": 17,
   "metadata": {
    "scrolled": false
   },
   "outputs": [
    {
     "data": {
      "text/html": [
       "<div>\n",
       "<style scoped>\n",
       "    .dataframe tbody tr th:only-of-type {\n",
       "        vertical-align: middle;\n",
       "    }\n",
       "\n",
       "    .dataframe tbody tr th {\n",
       "        vertical-align: top;\n",
       "    }\n",
       "\n",
       "    .dataframe thead th {\n",
       "        text-align: right;\n",
       "    }\n",
       "</style>\n",
       "<table border=\"1\" class=\"dataframe\">\n",
       "  <thead>\n",
       "    <tr style=\"text-align: right;\">\n",
       "      <th></th>\n",
       "      <th>index</th>\n",
       "      <th>date_time</th>\n",
       "      <th>Date Start</th>\n",
       "      <th>category</th>\n",
       "      <th>hour</th>\n",
       "      <th>minute</th>\n",
       "      <th>second</th>\n",
       "      <th>date_time_min</th>\n",
       "      <th>duration_minutes</th>\n",
       "    </tr>\n",
       "  </thead>\n",
       "  <tbody>\n",
       "    <tr>\n",
       "      <th>0</th>\n",
       "      <td>58</td>\n",
       "      <td>2020-05-11 00:00:58</td>\n",
       "      <td>2020-05-11 00:00:00</td>\n",
       "      <td>Photos</td>\n",
       "      <td>0</td>\n",
       "      <td>0</td>\n",
       "      <td>58</td>\n",
       "      <td>2020-05-11 00:00:00</td>\n",
       "      <td>1</td>\n",
       "    </tr>\n",
       "    <tr>\n",
       "      <th>1</th>\n",
       "      <td>118</td>\n",
       "      <td>2020-05-11 00:01:58</td>\n",
       "      <td>2020-05-11 00:00:00</td>\n",
       "      <td>Photos</td>\n",
       "      <td>0</td>\n",
       "      <td>1</td>\n",
       "      <td>58</td>\n",
       "      <td>2020-05-11 00:01:00</td>\n",
       "      <td>1</td>\n",
       "    </tr>\n",
       "    <tr>\n",
       "      <th>2</th>\n",
       "      <td>178</td>\n",
       "      <td>2020-05-11 00:02:58</td>\n",
       "      <td>2020-05-11 00:00:00</td>\n",
       "      <td>Photos</td>\n",
       "      <td>0</td>\n",
       "      <td>2</td>\n",
       "      <td>58</td>\n",
       "      <td>2020-05-11 00:02:00</td>\n",
       "      <td>1</td>\n",
       "    </tr>\n",
       "    <tr>\n",
       "      <th>3</th>\n",
       "      <td>238</td>\n",
       "      <td>2020-05-11 00:03:58</td>\n",
       "      <td>2020-05-11 00:00:00</td>\n",
       "      <td>Photos</td>\n",
       "      <td>0</td>\n",
       "      <td>3</td>\n",
       "      <td>58</td>\n",
       "      <td>2020-05-11 00:03:00</td>\n",
       "      <td>1</td>\n",
       "    </tr>\n",
       "    <tr>\n",
       "      <th>4</th>\n",
       "      <td>298</td>\n",
       "      <td>2020-05-11 00:04:58</td>\n",
       "      <td>2020-05-11 00:04:26</td>\n",
       "      <td>no entry</td>\n",
       "      <td>0</td>\n",
       "      <td>4</td>\n",
       "      <td>58</td>\n",
       "      <td>2020-05-11 00:04:00</td>\n",
       "      <td>1</td>\n",
       "    </tr>\n",
       "  </tbody>\n",
       "</table>\n",
       "</div>"
      ],
      "text/plain": [
       "   index           date_time          Date Start  category  hour  minute  \\\n",
       "0     58 2020-05-11 00:00:58 2020-05-11 00:00:00    Photos     0       0   \n",
       "1    118 2020-05-11 00:01:58 2020-05-11 00:00:00    Photos     0       1   \n",
       "2    178 2020-05-11 00:02:58 2020-05-11 00:00:00    Photos     0       2   \n",
       "3    238 2020-05-11 00:03:58 2020-05-11 00:00:00    Photos     0       3   \n",
       "4    298 2020-05-11 00:04:58 2020-05-11 00:04:26  no entry     0       4   \n",
       "\n",
       "   second       date_time_min  duration_minutes  \n",
       "0      58 2020-05-11 00:00:00                 1  \n",
       "1      58 2020-05-11 00:01:00                 1  \n",
       "2      58 2020-05-11 00:02:00                 1  \n",
       "3      58 2020-05-11 00:03:00                 1  \n",
       "4      58 2020-05-11 00:04:00                 1  "
      ]
     },
     "execution_count": 17,
     "metadata": {},
     "output_type": "execute_result"
    }
   ],
   "source": [
    "CATEGORY_COL_NAME_1 = RESC_DETAIL\n",
    "\n",
    "# Expand our rescuetime data as that is bulk of my data\n",
    "res_time_data = time_dataframe_prep(df = rt_df, \n",
    "                                         start_date = START_DATE,\n",
    "                                         end_date = END_DATE, \n",
    "                                         start_date_column = 'Date Start', \n",
    "                                         end_date_column = 'Date End', \n",
    "                                         category_column = CATEGORY_COL_NAME_1)\n",
    "\n",
    "res_time_data.sort_values('date_time_min', ascending = True).head(5)\n"
   ]
  },
  {
   "cell_type": "markdown",
   "metadata": {},
   "source": [
    "## Step 4: Visualize Data"
   ]
  },
  {
   "cell_type": "code",
   "execution_count": 18,
   "metadata": {},
   "outputs": [],
   "source": [
    "def create_chart_xy_components(d, date_time_column, start_date, end_date, category_column):\n",
    "    \"\"\"    \n",
    "    Returns a dataframe with columns specifically for visualizing the stack bar plot.\n",
    "    \n",
    "    Parameters\n",
    "    ----------\n",
    "    d : dataframe\n",
    "        Exploded dataframe\n",
    "    date_time_column : datetime\n",
    "        A column that contains a timestamp\n",
    "    start_date : str\n",
    "        Date of first entry \n",
    "    end_date :str \n",
    "        Date of last entry\n",
    "    category_column : str\n",
    "        Column that contains the event tag name\n",
    "    \n",
    "    Returns\n",
    "    -------\n",
    "    d : dataframe\n",
    "        A dataframe with additional columns for plotting\n",
    "    \n",
    "    \"\"\"\n",
    "    # Reduce the dataframe to the specified date range\n",
    "    d = d[(d[date_time_column] >= start_date) & (d[date_time_column] <= end_date)].copy()\n",
    "\n",
    "    # Remove time stamps (x-axis)\n",
    "    d['Date Abr'] = d['date_time'].dt.date\n",
    "    \n",
    "    # Add day of week\n",
    "    d['date_week'] = d['date_time'].dt.strftime('%Y-%m-%d, %a')\n",
    "\n",
    "    # A float conversion of time (y-axis scaled for 24 hour period)\n",
    "    d['time_from_day_start'] = (d[date_time_column] - d[date_time_column].dt.normalize()).dt.total_seconds().fillna(0)/(60*60)\n",
    "    \n",
    "    return d"
   ]
  },
  {
   "cell_type": "code",
   "execution_count": 19,
   "metadata": {},
   "outputs": [],
   "source": [
    "def organize_categories_colors(d, category_column, my_color_categories, specified_category_list = []):\n",
    "    \"\"\"    \n",
    "    Returns a two lists and a dictionary of color hashes, ordered tag names and the pairs.\n",
    "    \n",
    "    Parameters\n",
    "    ----------\n",
    "    d : dataframe\n",
    "        Exploded dataframe with additional columns for plotting\n",
    "    category_column : str\n",
    "        Column that contains the event tag name\n",
    "    my_color_categories : str list\n",
    "        List of colors for a list of specified tags\n",
    "    specified_category_list : str list\n",
    "        Optional list of event tag names with unique colors, while the rest are all uniform and grey\n",
    "    \n",
    "    Returns\n",
    "    -------\n",
    "    color_palette : list\n",
    "        A list of color hashes\n",
    "    category_list_names_ordered : list\n",
    "        A list of event tag names that is ordered for legend display to match the color order.\n",
    "    color_pairs_main : dictionary\n",
    "        A combination of the tags and matching color hashes.\n",
    "    \n",
    "    \"\"\"\n",
    "\n",
    "    ### Colors & Categories\n",
    "    category_list = list(d[category_column].unique())\n",
    "    \n",
    "    ## Which categories have not yet been assigned a color in the my_color_schema\n",
    "    unknown_category_list = list(set(category_list) - set(my_color_categories))\n",
    "\n",
    "    # Generate color palette for the tags that weren't specified previously \n",
    "    r = lambda: random.randint(0,255)\n",
    "    long_color_list = []\n",
    "    for i in range(0, len(unknown_category_list)):\n",
    "        long_color_list.append('#%02X%02X%02X' % (r(),r(),r()))\n",
    "    color_list = long_color_list\n",
    "\n",
    "        \n",
    "    # Zip colors\n",
    "    color_pairs_new = dict(zip(unknown_category_list, color_list))\n",
    "\n",
    "    # Add the category/color pairs already defined in my_color_schema dictionary\n",
    "    known_category_list = list(set(category_list) & set(my_color_categories))\n",
    "    modified_my_color_schema = {x: my_color_schema[x] for x in known_category_list}\n",
    "\n",
    "\n",
    "    # Combine new \n",
    "    color_pairs = {**color_pairs_new, **modified_my_color_schema}\n",
    "\n",
    "\n",
    "    # Focus only a subset of categories\n",
    "    if specified_category_list != []:\n",
    "        # Create a list where all but the specified entries are included\n",
    "        category_list_remaining = category_list.copy()\n",
    "        [category_list_remaining.remove(x) for x in specified_category_list]\n",
    "        # Convert all the not specified entries to the same color (make it easier to visually inspect for patterns)\n",
    "        color_pairs.update(dict.fromkeys(category_list_remaining, '#e8e8e8'))\n",
    "\n",
    "    # Ordered categories and colors\n",
    "    category_list_names_ordered = [key for (key, value) in sorted(color_pairs.items())]\n",
    "    color_palette = [value for (key, value) in sorted(color_pairs.items())]\n",
    "    \n",
    "    return color_palette, category_list_names_ordered, color_pairs"
   ]
  },
  {
   "cell_type": "code",
   "execution_count": 31,
   "metadata": {},
   "outputs": [],
   "source": [
    "def daily_chart_24_hours(d, category_column, category_list_names_ordered, color_palette, \n",
    "    add_reference_lines = False, top_line = 9, bottom_line = 17, \n",
    "    legend_on = False, turn_xaxis_on = True):\n",
    "\n",
    "    \"\"\"    \n",
    "    Returns a multi-day 24-hour stacked bar plot.\n",
    "    \n",
    "    Parameters\n",
    "    ----------\n",
    "    d : dataframe\n",
    "        Exploded dataframe with additional columns for plotting\n",
    "    category_column : str\n",
    "        Column that contains the event tag name\n",
    "    category_list_names_ordered : list\n",
    "        Ordered string tags that match the color palette order\n",
    "    color_palette : list\n",
    "        List of color hashes that correspond to the tags\n",
    "        \n",
    "    Optional Parameters\n",
    "    ----------\n",
    "    add_reference_lines : boolean\n",
    "        Display two horizonatal lines to draw your eye to particular times\n",
    "    top_line : int\n",
    "        Military time value for 1st horizontal line\n",
    "    bottom_line : int\n",
    "        Military time value for 2nd horizontal line\n",
    "    legend_on : boolean\n",
    "        Display legend \n",
    "    turn_xaxis_on : boolean\n",
    "        Display xaxis date values\n",
    "\n",
    "    \"\"\"   \n",
    "    \n",
    "    plt.style.use('fivethirtyeight')\n",
    "\n",
    "    v_val= 0\n",
    "    h_val= 200\n",
    "    verts = list(zip([-h_val,h_val,h_val,-h_val],[-v_val,-v_val,v_val,v_val]))\n",
    "\n",
    "    fig, ax = plt.subplots()\n",
    "\n",
    "    for i in range(len(category_list_names_ordered)):\n",
    "        plt.scatter(d[d[category_column] == category_list_names_ordered[i]]['Date Abr'], \n",
    "                    d[d[category_column] == category_list_names_ordered[i]]['time_from_day_start'], \n",
    "                    s = 2000,\n",
    "                    c = color_palette[i],\n",
    "                    marker = (verts)\n",
    "                )\n",
    "    plt.yticks(np.arange(0, 25, step=6)) \n",
    "\n",
    "    xstart = d['Date Abr'].min() - pd.DateOffset(days=1)\n",
    "    xend = d['Date Abr'].max() + pd.DateOffset(days=1)\n",
    "    plt.xlim(xstart, xend)\n",
    "\n",
    "    # Add labels with Day of the week at the end, ordered\n",
    "    plt.gca().xaxis.set_major_locator(mdates.DayLocator(interval=1))\n",
    "    plt.gca().xaxis.set_major_formatter(mdates.DateFormatter('%b %-d, %a'))\n",
    "\n",
    "    # Remove the extra date at the front and end\n",
    "    locs, labels = plt.xticks() \n",
    "    date_label_list = list(d['date_time'].dt.strftime('%b %-d, %a').unique())\n",
    "    plt.xticks(np.arange(locs[0], locs[0] + len(date_label_list) + 1, step =1), \n",
    "        [\"\"] + date_label_list + [\"\"], \n",
    "        rotation=90)\n",
    "\n",
    "    if turn_xaxis_on == False:\n",
    "        ax.tick_params(labelbottom=False)    \n",
    "\n",
    "\n",
    "    if legend_on == True:\n",
    "        leg = plt.legend(category_list_names_ordered, bbox_to_anchor=(1.15,0.5), \n",
    "                   loc=\"center\", title = (r\"$\\bf{\" + category_column + \"}$\"), fancybox=True)\n",
    "\n",
    "        for i in leg.legendHandles:\n",
    "            i.set_linewidth(5)\n",
    "    else:\n",
    "        plt.legend('')\n",
    "\n",
    "    plt.ylabel('Time of Day')\n",
    "    plt.gca().invert_yaxis()\n",
    "    plt.xlabel('Date')\n",
    "    plt.title(r\"$\\bf{\" + 'Recorded' + \"}$\" + ' ' + r\"$\\bf{\" + 'Daily' + \"}$\" + ' ' + r\"$\\bf{\" + 'Minutes' + \"}$\" +\n",
    "        f\"\\nDate Range: {str(xstart.strftime('%Y-%m-%d'))} to {str(xend.strftime('%Y-%m-%d'))}\")\n",
    "\n",
    "\n",
    "    # Reference Lines\n",
    "    if add_reference_lines == True:\n",
    "        plt.axhline(y=top_line, linewidth=2, color='black', linestyle = '--')\n",
    "        top_line_text = '  Start: {}'.format(top_line)\n",
    "        plt.text(x=xend, y=top_line, s=top_line_text, alpha=0.7, color='#334f8d')\n",
    "\n",
    "        bottom_line_text = '  End: {}'.format(bottom_line)\n",
    "        plt.axhline(y=bottom_line, linewidth=2, color='black', linestyle = '--')\n",
    "        plt.text(x=xend, y=bottom_line, s=bottom_line_text, alpha=0.7, color='#334f8d')\n",
    "\n",
    "    plt.show()"
   ]
  },
  {
   "cell_type": "code",
   "execution_count": 32,
   "metadata": {
    "scrolled": true
   },
   "outputs": [],
   "source": [
    "# What level of granularity are the tags we will be displaying?\n",
    "breakdown_level_col = RESC_DETAIL\n",
    "\n",
    "data = create_chart_xy_components(d = res_time_data, \n",
    "                                  date_time_column = 'date_time', \n",
    "                                  start_date = START_DATE, \n",
    "                                  end_date = END_DATE, \n",
    "                                  category_column = breakdown_level_col)"
   ]
  },
  {
   "cell_type": "code",
   "execution_count": 33,
   "metadata": {
    "scrolled": false
   },
   "outputs": [
    {
     "data": {
      "image/png": "[encoded data removed]",
      "text/plain": [
       "<Figure size 3168x72 with 1 Axes>"
      ]
     },
     "metadata": {},
     "output_type": "display_data"
    }
   ],
   "source": [
    "# Color and Category Selection\n",
    "(color_palette, \n",
    " category_list_names_ordered, \n",
    " color_pairs_main) = organize_categories_colors(d = data,\n",
    "                                                category_column = breakdown_level_col, \n",
    "                                                my_color_categories = my_color_categories,\n",
    "                                                specified_category_list = HIGHLIGHT_ONLY_CATEGORY_LIST\n",
    "                                               )\n",
    "# Output color palette\n",
    "sns.palplot(color_palette)"
   ]
  },
  {
   "cell_type": "code",
   "execution_count": 34,
   "metadata": {},
   "outputs": [],
   "source": [
    "# Color table\n",
    "# pd.DataFrame(color_pairs_main.items(), columns = ['category', 'color']).sort_values('category')"
   ]
  },
  {
   "cell_type": "code",
   "execution_count": 35,
   "metadata": {},
   "outputs": [
    {
     "data": {
      "image/png": "[encoded data removed]",
      "text/plain": [
       "<Figure size 1152x576 with 1 Axes>"
      ]
     },
     "metadata": {},
     "output_type": "display_data"
    }
   ],
   "source": [
    "daily_chart_24_hours(d = data, \n",
    "                     category_column = breakdown_level_col,\n",
    "                     category_list_names_ordered = category_list_names_ordered,\n",
    "                     color_palette = color_palette,\n",
    "                     add_reference_lines = True,\n",
    "                     top_line = 9, \n",
    "                     bottom_line = 17,\n",
    "                     legend_on = False,\n",
    "                     turn_xaxis_on = True\n",
    "                    )"
   ]
  }
 ],
 "metadata": {
  "kernelspec": {
   "display_name": "Python 3",
   "language": "python",
   "name": "python3"
  },
  "language_info": {
   "codemirror_mode": {
    "name": "ipython",
    "version": 3
   },
   "file_extension": ".py",
   "mimetype": "text/x-python",
   "name": "python",
   "nbconvert_exporter": "python",
   "pygments_lexer": "ipython3",
   "version": "3.7.6"
  }
 },
 "nbformat": 4,
 "nbformat_minor": 4
}
